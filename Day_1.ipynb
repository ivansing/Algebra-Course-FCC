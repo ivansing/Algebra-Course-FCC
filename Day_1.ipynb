{
  "nbformat": 4,
  "nbformat_minor": 0,
  "metadata": {
    "colab": {
      "provenance": [],
      "toc_visible": true,
      "authorship_tag": "ABX9TyMEQTdBUzp9CBqyEpUW3dEe",
      "include_colab_link": true
    },
    "kernelspec": {
      "name": "python3",
      "display_name": "Python 3"
    },
    "language_info": {
      "name": "python"
    }
  },
  "cells": [
    {
      "cell_type": "markdown",
      "metadata": {
        "id": "view-in-github",
        "colab_type": "text"
      },
      "source": [
        "<a href=\"https://colab.research.google.com/github/ivansing/Algebra-Course-FCC/blob/main/Day_1.ipynb\" target=\"_parent\"><img src=\"https://colab.research.google.com/assets/colab-badge.svg\" alt=\"Open In Colab\"/></a>"
      ]
    },
    {
      "cell_type": "markdown",
      "source": [
        "# Proportion\n",
        "\n",
        "Proportions are two equal ratio"
      ],
      "metadata": {
        "id": "PC_Egnt9K_lD"
      }
    },
    {
      "cell_type": "markdown",
      "source": [
        "$\\frac{n1}{d1} = \\frac{n2}{d2}$\n",
        "\n",
        "\\[x + y = z \\]\n",
        "$8 \\div 3$\n",
        "$\\frac{1}{x}$"
      ],
      "metadata": {
        "id": "i-E1Ar0vOQ6f"
      }
    },
    {
      "cell_type": "code",
      "source": [
        "# Put a zero in for the unknown value\n",
        "n1 = 1\n",
        "d1 = 2\n",
        "n2 = 4\n",
        "d2 = 0\n",
        "\n",
        "if n2==0:\n",
        "  answer = d2 * n1 / d1\n",
        "  print(\"n2 = \", answer)\n",
        "\n",
        "if d2==0:\n",
        "  answer = n2 * d1 / n1\n",
        "  print(\"d2 = \", answer)"
      ],
      "metadata": {
        "colab": {
          "base_uri": "https://localhost:8080/"
        },
        "id": "S4c7GwtNNok-",
        "outputId": "37277328-13e1-41b6-914f-ace697682c92"
      },
      "execution_count": 5,
      "outputs": [
        {
          "output_type": "stream",
          "name": "stdout",
          "text": [
            "d2 =  8.0\n"
          ]
        }
      ]
    },
    {
      "cell_type": "code",
      "source": [],
      "metadata": {
        "id": "Xwf0x3Vg7QYJ"
      },
      "execution_count": null,
      "outputs": []
    },
    {
      "cell_type": "markdown",
      "source": [
        "Extra Problems"
      ],
      "metadata": {
        "id": "LrKXBPPDQEx7"
      }
    },
    {
      "cell_type": "markdown",
      "source": [
        "# Algebraic Language"
      ],
      "metadata": {
        "id": "_LvXaKht7HsJ"
      }
    },
    {
      "cell_type": "markdown",
      "source": [
        "Triple of a number 3a 3x 3m\n",
        "\n",
        "Half of a number  $\\frac{x}{2} $\n",
        "\n",
        "Third pard of a number $\\frac{x}{3} $\n",
        "\n",
        "Square of a number $a^2 b^2 x^2$"
      ],
      "metadata": {
        "id": "iBjcBMCC7S0d"
      }
    },
    {
      "cell_type": "code",
      "source": [
        "x = 0\n",
        "y = 0\n",
        "\n",
        "half = x / 2\n",
        "third = y / 3\n",
        "\n",
        "squares = x**2 + 2\n",
        "\n",
        "print(squares)"
      ],
      "metadata": {
        "colab": {
          "base_uri": "https://localhost:8080/"
        },
        "id": "eTs-UVd08NFo",
        "outputId": "6328853f-679c-426a-8703-669a8a2a9bfb"
      },
      "execution_count": 19,
      "outputs": [
        {
          "output_type": "stream",
          "name": "stdout",
          "text": [
            "2\n"
          ]
        }
      ]
    },
    {
      "cell_type": "markdown",
      "source": [
        "More examples:\n",
        "\n",
        "Twice the sum of two numbers  2(a + b)\n",
        "\n",
        "Triple the difference of two numbers 3(a-b)\n",
        "\n",
        "The Sum of three numbers a + b + c\n",
        "\n",
        "A number augmented by 3 a + 3\n",
        "\n",
        "A number diminished by 5 a - 5\n",
        "\n",
        "A difference between a number and eight a - 8  8 - a\n",
        "\n",
        "Twice the product of two numbers 2xy\n",
        "\n",
        "Triple the quotient of two numbers $3 \\frac{x}{y} \\ \\frac{3x}{y} $\n",
        "\n",
        "The square of the sum of two numbers $(a+b)^2 $\n",
        "\n",
        "The square of the difference of two numbers $(a-b)^2 $\n",
        "\n",
        "The sum of the square of two numbers $a^2 + b^2 $\n",
        "The differecne of the square of two numbers $a^2 - b^2 $"
      ],
      "metadata": {
        "id": "k8HQ-LH_8qih"
      }
    },
    {
      "cell_type": "code",
      "source": [
        "a = 2\n",
        "b = 3\n",
        "c = 4\n",
        "x = 6\n",
        "y = 7\n",
        "\n",
        "print(2*(a+b))\n",
        "print(3*(a-b))\n",
        "print(a+b+c)\n",
        "print(3*a+3)\n",
        "print(5*a-5)\n",
        "print(a - 8)\n",
        "print(2*x*y)\n",
        "print(3*(x/y))\n",
        "print(3*x/y)\n",
        "print((a+b)**2)\n",
        "print((a-b)**2)\n",
        "print(a**2 + b**2)\n"
      ],
      "metadata": {
        "colab": {
          "base_uri": "https://localhost:8080/"
        },
        "id": "4ijp9a3SAn5-",
        "outputId": "21d085eb-f1f2-4625-95d9-e23505560366"
      },
      "execution_count": 27,
      "outputs": [
        {
          "output_type": "stream",
          "name": "stdout",
          "text": [
            "10\n",
            "-3\n",
            "9\n",
            "9\n",
            "5\n",
            "-6\n",
            "84\n",
            "2.571428571428571\n",
            "2.5714285714285716\n",
            "25\n",
            "1\n",
            "13\n"
          ]
        }
      ]
    },
    {
      "cell_type": "markdown",
      "source": [
        "The successor of a number 5 + 1 = 6 or can be 6 + 7 = 8 and so on...\n",
        "\n",
        "The predecessor of a number 6 - 1 = 5 or 7 - 1 = 6\n",
        "\n",
        "Two consecutive numbers x  ---> x + 1\n",
        "\n",
        "Three consecutive numbers x    x + 1 x + 1 x 1 // x + 2 || x - 1 x x + 1\n",
        "\n",
        "An even number 0 2 4 6 8 || 2x\n",
        "\n",
        "Three consecutives even numbers 2x  2x+2 2x+2+2 then  20 22 // 100 102   \n",
        "\n",
        "An odd number 2x-1   50 + 1\n",
        "\n",
        "Two consecutive odd numbers 2x-1   2x-1+2 then 2x+1\n",
        "\n",
        "A two digit numbers 10x + y  || 25  2 * 10 + 5\n",
        "\n",
        "A three digit number 100x + 10y + z     ||  375 ---> 300 70 5"
      ],
      "metadata": {
        "id": "G1X5go9GCgYV"
      }
    },
    {
      "cell_type": "code",
      "source": [
        "x = 2\n",
        "y = 5\n",
        "z = 6\n",
        "\n",
        "print(x+1)\n",
        "\n",
        "print(x-1)\n",
        "\n",
        "print(x + x + 1)\n",
        "print([2,4,6,8])\n",
        "print((2*x-1) + (2*x-1))\n",
        "print(2*x - 1)\n",
        "print((2*x-1)+(2*x-1))\n",
        "print(10*x + y)\n",
        "print(100*x + 10*y + z)"
      ],
      "metadata": {
        "colab": {
          "base_uri": "https://localhost:8080/"
        },
        "id": "2peFrncuTwOm",
        "outputId": "ca341dcd-3ae4-4877-f925-b19775eadbf8"
      },
      "execution_count": 38,
      "outputs": [
        {
          "output_type": "stream",
          "name": "stdout",
          "text": [
            "3\n",
            "1\n",
            "5\n",
            "[2, 4, 6, 8]\n",
            "6\n",
            "3\n",
            "6\n",
            "25\n",
            "256\n"
          ]
        }
      ]
    },
    {
      "cell_type": "markdown",
      "source": [
        "The sum of two numbers is six:  x + y = 6\n",
        "\n",
        "Twice of a number is 20: 2x = 20\n",
        "\n",
        "The square of the sum of two numbers equal to triple their product:   $(x+y)^2 = 3xy$\n",
        "\n",
        "The sum of two consecutive numbers is 51: x + x + 1 = 51\n",
        "\n",
        "Triple the sum of two numbers is equal to their product: 3(x+y) = xy\n"
      ],
      "metadata": {
        "id": "RM_4R-nAVmWM"
      }
    },
    {
      "cell_type": "code",
      "source": [
        "x = 3\n",
        "y = 3\n",
        "print(x+y)\n",
        "x =10\n",
        "print(2*x)\n",
        "print((x+y)**2)"
      ],
      "metadata": {
        "colab": {
          "base_uri": "https://localhost:8080/"
        },
        "id": "tTznrjDSYHPk",
        "outputId": "90f9052f-8851-4250-bd36-313188cdba56"
      },
      "execution_count": 44,
      "outputs": [
        {
          "output_type": "stream",
          "name": "stdout",
          "text": [
            "6\n",
            "20\n",
            "169\n"
          ]
        }
      ]
    },
    {
      "cell_type": "code",
      "source": [
        "x = 2/3 + 3 + 4/5 -7\n",
        "y = 0.6666666666\n",
        "\n",
        "print(x)"
      ],
      "metadata": {
        "colab": {
          "base_uri": "https://localhost:8080/"
        },
        "id": "aV4JaH2eQHiq",
        "outputId": "c3f84874-1a4f-47eb-e96e-74a6523db740"
      },
      "execution_count": 9,
      "outputs": [
        {
          "output_type": "stream",
          "name": "stdout",
          "text": [
            "-2.533333333333333\n"
          ]
        }
      ]
    },
    {
      "cell_type": "markdown",
      "source": [
        "# Solve X"
      ],
      "metadata": {
        "id": "Abje98GVUii7"
      }
    },
    {
      "cell_type": "markdown",
      "source": [],
      "metadata": {
        "id": "P5WnI8Ni4wH9"
      }
    },
    {
      "cell_type": "markdown",
      "source": [],
      "metadata": {
        "id": "lBl6q8V94wFS"
      }
    },
    {
      "cell_type": "markdown",
      "source": [],
      "metadata": {
        "id": "U60lTyft4jF_"
      }
    },
    {
      "cell_type": "markdown",
      "source": [
        "x + 3 = 5         \n",
        "  -3    -3\n",
        "    x = 2\n",
        "\n",
        "x - 2 = 10\n",
        "\n",
        "  + 2   + 2\n",
        "    x = 12\n",
        "\n",
        "3x = 12\n",
        "3x/3 = 12/3\n",
        "\n",
        "   x = 4\n",
        "\n",
        "x / 4 = 2\n",
        "\n",
        "\n",
        "4x + 6  = 22   \n",
        "   -6     -6\n",
        "     4x = 16\n",
        "    4x/4 = 16/4\n",
        "      x = 4"
      ],
      "metadata": {
        "id": "NXAhaUXMU1QW"
      }
    },
    {
      "cell_type": "markdown",
      "source": [
        "Solving for x. The variable eq is the equation set equal to zero. This will print an array of solutions."
      ],
      "metadata": {
        "id": "ZTtGUUplXnbt"
      }
    },
    {
      "cell_type": "code",
      "source": [
        "import sympy\n",
        "from sympy import symbols\n",
        "from sympy.solvers import solve\n",
        "\n",
        "x = symbols('x')\n",
        "\n",
        "# Put the equation here\n",
        "eq = 2*x - 4\n",
        "\n",
        "solve(eq,x)"
      ],
      "metadata": {
        "colab": {
          "base_uri": "https://localhost:8080/"
        },
        "id": "0Z5W8S1SXHk-",
        "outputId": "c296b961-97c1-46f5-b109-812d7adab3e2"
      },
      "execution_count": 14,
      "outputs": [
        {
          "output_type": "execute_result",
          "data": {
            "text/plain": [
              "[2]"
            ]
          },
          "metadata": {},
          "execution_count": 14
        }
      ]
    },
    {
      "cell_type": "markdown",
      "source": [
        "Prompt for someone to enter the equation, then solve"
      ],
      "metadata": {
        "id": "20p8TBs9fh84"
      }
    },
    {
      "cell_type": "code",
      "source": [
        "import sympy\n",
        "from sympy import symbols\n",
        "from sympy.solvers import solve\n",
        "\n",
        "x = symbols('x')\n",
        "eq = input('Enter equation: 0 = ')\n",
        "print(\"x = \", solve(eq,x))\n"
      ],
      "metadata": {
        "colab": {
          "base_uri": "https://localhost:8080/"
        },
        "id": "Dm2BLP07fw3G",
        "outputId": "c949656c-f562-4c39-8819-eaae75d24509"
      },
      "execution_count": 16,
      "outputs": [
        {
          "output_type": "stream",
          "name": "stdout",
          "text": [
            "Enter equation: 0 = 3*x-6\n",
            "x =  [2]\n"
          ]
        }
      ]
    },
    {
      "cell_type": "markdown",
      "source": [
        "Doing more with the solution\n"
      ],
      "metadata": {
        "id": "BCXv5e7hgsP5"
      }
    },
    {
      "cell_type": "code",
      "source": [
        "import sympy\n",
        "from sympy import symbols\n",
        "from sympy.solvers import solve\n",
        "\n",
        "x = symbols('x')\n",
        "\n",
        "# Put the equation here\n",
        "eq = 2*x - 4\n",
        "\n",
        "solution = solve(eq,x)\n",
        "print(\"x = \", solution[0])\n",
        "\n"
      ],
      "metadata": {
        "colab": {
          "base_uri": "https://localhost:8080/"
        },
        "id": "llUgZ0-0gyo4",
        "outputId": "79e5d0c1-a8b8-43be-e850-007cad62baa4"
      },
      "execution_count": 20,
      "outputs": [
        {
          "output_type": "stream",
          "name": "stdout",
          "text": [
            "x =  2\n"
          ]
        }
      ]
    },
    {
      "cell_type": "markdown",
      "source": [
        "Multiple answers"
      ],
      "metadata": {
        "id": "92kwJjc3hZ9v"
      }
    },
    {
      "cell_type": "code",
      "source": [
        "import sympy\n",
        "from sympy import symbols\n",
        "from sympy.solvers import solve\n",
        "\n",
        "x = symbols('x')\n",
        "\n",
        "# Two different ways to get the equation\n",
        "# eq = 2*x - 4\n",
        "eq = input(\"Enter equation: 0 = \")\n",
        "\n",
        "solution = solve(eq,x)\n",
        "for s in solution:\n",
        "  print(\"x = \", s)\n"
      ],
      "metadata": {
        "colab": {
          "base_uri": "https://localhost:8080/"
        },
        "id": "vSADRT31hcle",
        "outputId": "b2c36946-7341-4984-b21c-39f9fba00325"
      },
      "execution_count": 25,
      "outputs": [
        {
          "output_type": "stream",
          "name": "stdout",
          "text": [
            "Enter equation: 0 = (x-1)*(x+2)*(x-3)\n",
            "x =  -2\n",
            "x =  1\n",
            "x =  3\n"
          ]
        }
      ]
    },
    {
      "cell_type": "markdown",
      "source": [
        "Solving other ways"
      ],
      "metadata": {
        "id": "oB24x5cNiuFn"
      }
    },
    {
      "cell_type": "code",
      "source": [
        "from sympy import *\n",
        "\n",
        "var('x y')\n",
        "\n",
        "# First equation set equal to zero, ready to solve\n",
        "first = 2*x + 10\n",
        "\n",
        "# Sympy syntax for equation equal to zero, ready to factor\n",
        "eq1 = Eq(first,y)\n",
        "\n",
        "# Sympy solve for x\n",
        "sol = solve(eq1,x)\n",
        "\n",
        "# Show factores results\n",
        "print(\"x = \", sol[0])"
      ],
      "metadata": {
        "colab": {
          "base_uri": "https://localhost:8080/"
        },
        "id": "BKUb3u-_iv1W",
        "outputId": "17821c34-c395-4a90-a8ab-0220b612c880"
      },
      "execution_count": 28,
      "outputs": [
        {
          "output_type": "stream",
          "name": "stdout",
          "text": [
            "x =  y/2 - 5\n"
          ]
        }
      ]
    },
    {
      "cell_type": "markdown",
      "source": [
        "Factoring"
      ],
      "metadata": {
        "id": "GLkC42RUwjmd"
      }
    },
    {
      "cell_type": "code",
      "source": [
        "import sympy\n",
        "from sympy import symbols\n",
        "\n",
        "var('x y')\n",
        "\n",
        "# Equation set equal to zero, ready to solve\n",
        "eq = 2*x + 10*y + 3\n",
        "eq2 = x**3 - 2*x**2 - 5*x + 6\n",
        "\n",
        "sympy.factor(eq2)\n"
      ],
      "metadata": {
        "colab": {
          "base_uri": "https://localhost:8080/",
          "height": 39
        },
        "id": "XGiTxjDlwlGy",
        "outputId": "16771fc8-43ac-4e3c-8de2-27c5f593d265"
      },
      "execution_count": 35,
      "outputs": [
        {
          "output_type": "execute_result",
          "data": {
            "text/plain": [
              "(x - 3)*(x - 1)*(x + 2)"
            ],
            "text/latex": "$\\displaystyle \\left(x - 3\\right) \\left(x - 1\\right) \\left(x + 2\\right)$"
          },
          "metadata": {},
          "execution_count": 35
        }
      ]
    },
    {
      "cell_type": "markdown",
      "source": [
        "Functions"
      ],
      "metadata": {
        "id": "dIlpMtgSyaNX"
      }
    },
    {
      "cell_type": "code",
      "source": [
        "import random\n",
        "# converts string input (including fractions) to float\n",
        "def string_frac(in_string):\n",
        "    if \"/\" in in_string:\n",
        "        nd = in_string.split(\"/\") # nd numerator denominator\n",
        "        n = float(nd[0])\n",
        "        d = float(nd[1])\n",
        "        res = n/d\n",
        "        return res\n",
        "    else:\n",
        "        res = float(in_string)\n",
        "        return res\n",
        "\n",
        "# Simples one-step addition\n",
        "def one_step_add():\n",
        "\n",
        "    # Gives random numbers\n",
        "    a = random.randint(-4,10)\n",
        "    b = random.randint(2,24)\n",
        "    print(\"x + \", a, \" = \", b)\n",
        "    ans = input(\"x = \")\n",
        "    answer = b - a\n",
        "\n",
        "    #Test input\n",
        "    if string_frac(ans) == answer:\n",
        "        print(\"Correct! \\n\")\n",
        "    else:\n",
        "        print(\"Try again\")\n",
        "        print(\"The correct answer is \", answer, \"\\n\")\n",
        "\n",
        "one_step_add()"
      ],
      "metadata": {
        "colab": {
          "base_uri": "https://localhost:8080/"
        },
        "id": "YBiSCZseydiF",
        "outputId": "67295b65-d63e-4271-8643-44370ab80466"
      },
      "execution_count": 42,
      "outputs": [
        {
          "output_type": "stream",
          "name": "stdout",
          "text": [
            "x +  -3  =  20\n",
            "x = 17\n",
            "Try again\n",
            "The correct answer is  23 \n",
            "\n"
          ]
        }
      ]
    },
    {
      "cell_type": "markdown",
      "source": [
        "# Fractions and Decimals\n",
        "\n",
        "$\\frac{1}{10} = 0.1$ \"one tenth\"\n",
        "\n",
        "\n",
        "$\\frac{1}{100} = 0.1$ \"one hundreth\"\n",
        "\n",
        "$\\frac{1}{1000} = 0.1$ \"one thousanth\"\n",
        "\n",
        ".234 = $\\frac{234}{1000}$ \"out of thousanth\"\n",
        "\n",
        ".4  = $\\frac{4}{10} $    \"four out of tenth\n",
        "\n",
        "$.33333∞$\n",
        "\n",
        "$-\\frac{10x = 3.3333\n",
        "- x = 0.3333}\n",
        "{9x = 3}$\n",
        "\n",
        "$x = \\frac{3}{9}$\n",
        "\n",
        "$-\\frac{10x = 9.090909\n",
        "- x = 0.090909}\n",
        "{99x = 9}$\n",
        "\n",
        "$x = \\frac{9}{99}$ = $\\frac{1}{11} $\n",
        ""
      ],
      "metadata": {
        "id": "RbtlHsF64ydB"
      }
    },
    {
      "cell_type": "markdown",
      "source": [
        "Positive and negative exponents"
      ],
      "metadata": {
        "id": "2qHDlgI88pQD"
      }
    },
    {
      "cell_type": "code",
      "source": [
        "print(10**1)\n",
        "print(10**2)\n",
        "print(10**3)\n",
        "\n",
        "print(10**0)\n",
        "\n",
        "print(10**-1)\n",
        "print(10**-2)\n",
        "print(10**-3)"
      ],
      "metadata": {
        "colab": {
          "base_uri": "https://localhost:8080/"
        },
        "id": "xC75mabs8ryH",
        "outputId": "d82a12d5-33c6-43e4-96c7-93ec49923290"
      },
      "execution_count": 44,
      "outputs": [
        {
          "output_type": "stream",
          "name": "stdout",
          "text": [
            "10\n",
            "100\n",
            "1000\n",
            "1\n",
            "0.1\n",
            "0.01\n",
            "0.001\n"
          ]
        }
      ]
    },
    {
      "cell_type": "markdown",
      "source": [
        "User input comes in as a string. You can find the length of the string"
      ],
      "metadata": {
        "id": "B7qDsijJ9R_b"
      }
    },
    {
      "cell_type": "code",
      "source": [
        "text = input(\"Enter a number\")\n",
        "print(text)\n",
        "\n",
        "print(len(text))\n",
        "\n",
        "# Cast input as a float or int variable\n",
        "num = float(text)\n",
        "print(num + 4)"
      ],
      "metadata": {
        "colab": {
          "base_uri": "https://localhost:8080/"
        },
        "id": "OJAakiXA9YOk",
        "outputId": "c5ceecce-039f-48cb-a082-45722bc177e8"
      },
      "execution_count": 47,
      "outputs": [
        {
          "output_type": "stream",
          "name": "stdout",
          "text": [
            "Enter a number.123\n",
            ".123\n",
            "4\n",
            "4.123\n"
          ]
        }
      ]
    },
    {
      "cell_type": "markdown",
      "source": [
        "Now put it all together"
      ],
      "metadata": {
        "id": "PZErdVVY-EXP"
      }
    },
    {
      "cell_type": "code",
      "source": [
        "digits = input(\"Enter a decimal number to convert: \")\n",
        "\n",
        "# Get number of decimal places as an integer\n",
        "exponent = int(len(digits)) - 1\n",
        "\n",
        "# Convert the input to a float number\n",
        "n = float(digits)\n",
        "\n",
        "# Use the exponent to get the numerator\n",
        "numerator = int(n * 10**exponent)\n",
        "\n",
        "# Use the exponent to get the denominator\n",
        "denominator = 10**exponent\n",
        "# percent is the first two decimal places\n",
        "percent = n * 100\n",
        "\n",
        "# Output\n",
        "print(\"The decimal is \", n)\n",
        "print(\"The fraction is \", numerator, \"/\", denominator)\n",
        "print(\"The percent is \", percent, \" &\")"
      ],
      "metadata": {
        "colab": {
          "base_uri": "https://localhost:8080/"
        },
        "id": "VU54Awiq-GOV",
        "outputId": "6f0d80ed-e3bc-406d-8f98-b5ac35b8c594"
      },
      "execution_count": 52,
      "outputs": [
        {
          "output_type": "stream",
          "name": "stdout",
          "text": [
            "Enter a decimal number to convert: .5\n",
            "The decimal is  0.5\n",
            "The fraction is  5 / 10\n",
            "The percent is  50.0  &\n"
          ]
        }
      ]
    },
    {
      "cell_type": "markdown",
      "source": [
        "\n",
        "# Functions\n",
        "\n",
        "y = 2x + 3                   \n",
        "\n",
        "y = 2(0) + 3\n",
        "\n",
        "y = 3\n",
        "\n",
        "input x output y       \n",
        "     0        3\n",
        "    \n",
        "f(x) = 2x + 3 // f of x\n",
        "\n",
        "input x    output f(x)\n",
        "0           3\n",
        "1           5\n",
        "\n",
        "f(2) = 2(2) + 3\n",
        "f(2) = 7\n",
        "\n",
        "input x output f(x)\n",
        "2         7\n",
        "\n",
        "\n",
        "      "
      ],
      "metadata": {
        "id": "y0rj-9ycBnVZ"
      }
    },
    {
      "cell_type": "code",
      "source": [
        "x = 5\n",
        "y = 4*x + 3 # The function\n",
        "\n",
        "print(x, \", \", y)\n",
        "\n",
        "print(\"x \\t y\")\n",
        "\n",
        "for x in range(11):\n",
        "    y = 4*x + 3 # The function\n",
        "    print(x, \"\\t\", y)"
      ],
      "metadata": {
        "colab": {
          "base_uri": "https://localhost:8080/"
        },
        "id": "WfOHio8pDZXp",
        "outputId": "2721b09a-f164-4ab2-c9fa-7730daa5d7ec"
      },
      "execution_count": 55,
      "outputs": [
        {
          "output_type": "stream",
          "name": "stdout",
          "text": [
            "5 ,  23\n",
            "x \t y\n",
            "0 \t 3\n",
            "1 \t 7\n",
            "2 \t 11\n",
            "3 \t 15\n",
            "4 \t 19\n",
            "5 \t 23\n",
            "6 \t 27\n",
            "7 \t 31\n",
            "8 \t 35\n",
            "9 \t 39\n",
            "10 \t 43\n"
          ]
        }
      ]
    },
    {
      "cell_type": "markdown",
      "source": [
        "Define a Python function"
      ],
      "metadata": {
        "id": "n4iImRaZEewP"
      }
    },
    {
      "cell_type": "code",
      "source": [
        "def f(x):\n",
        "    y = 4*x + 3\n",
        "    return y\n",
        "\n",
        "print(5, \",\", f(5))\n",
        "\n",
        "# Next, a loop\n",
        "for x in range(11):\n",
        "    print(x, \"\\t\", f(x))\n"
      ],
      "metadata": {
        "colab": {
          "base_uri": "https://localhost:8080/"
        },
        "id": "R2M750cpEhaq",
        "outputId": "982db575-25b8-4c46-e3ec-86daef62bf0a"
      },
      "execution_count": 57,
      "outputs": [
        {
          "output_type": "stream",
          "name": "stdout",
          "text": [
            "5 , 23\n",
            "0 \t 3\n",
            "1 \t 7\n",
            "2 \t 11\n",
            "3 \t 15\n",
            "4 \t 19\n",
            "5 \t 23\n",
            "6 \t 27\n",
            "7 \t 31\n",
            "8 \t 35\n",
            "9 \t 39\n",
            "10 \t 43\n"
          ]
        }
      ]
    },
    {
      "cell_type": "markdown",
      "source": [
        "# Graphic Functions\n",
        "\n"
      ],
      "metadata": {
        "id": "GQOLiwBMFDDI"
      }
    },
    {
      "cell_type": "markdown",
      "source": [
        "Basic blank graph"
      ],
      "metadata": {
        "id": "-9F96gYhFsds"
      }
    },
    {
      "cell_type": "code",
      "source": [
        "import matplotlib.pyplot as plt\n",
        "\n",
        "fig, ax = plt.subplots()\n",
        "plt.show()"
      ],
      "metadata": {
        "colab": {
          "base_uri": "https://localhost:8080/",
          "height": 435
        },
        "id": "EeuB4ghBFit_",
        "outputId": "01f4fd93-31f8-4e44-8408-8976e3364fec"
      },
      "execution_count": 63,
      "outputs": [
        {
          "output_type": "display_data",
          "data": {
            "text/plain": [
              "<Figure size 640x480 with 1 Axes>"
            ],
            "image/png": "[encoded data removed]"
          },
          "metadata": {}
        }
      ]
    },
    {
      "cell_type": "markdown",
      "source": [
        "Define dimensions of graph"
      ],
      "metadata": {
        "id": "XDzXwL7_Fy9f"
      }
    },
    {
      "cell_type": "code",
      "source": [
        "import matplotlib.pyplot as plt\n",
        "\n",
        "fig, ax = plt.subplots()\n",
        "\n",
        "# Dimensions\n",
        "plt.axis([-10,10,-10,10])\n",
        "\n",
        "plt.show()"
      ],
      "metadata": {
        "colab": {
          "base_uri": "https://localhost:8080/",
          "height": 435
        },
        "id": "eMaBt69QF1oD",
        "outputId": "c7bf27ad-479e-42c6-c96e-fe253fc6df77"
      },
      "execution_count": 59,
      "outputs": [
        {
          "output_type": "display_data",
          "data": {
            "text/plain": [
              "<Figure size 640x480 with 1 Axes>"
            ],
            "image/png": "[encoded data removed]"
          },
          "metadata": {}
        }
      ]
    },
    {
      "cell_type": "markdown",
      "source": [
        "A better way to set dimensions"
      ],
      "metadata": {
        "id": "lwg_tUKTGajB"
      }
    },
    {
      "cell_type": "code",
      "source": [
        "import matplotlib.pyplot as plt\n",
        "\n",
        "xmin = -10\n",
        "xmax = 10\n",
        "ymin = -10\n",
        "ymax = 100\n",
        "\n",
        "fig, ax = plt.subplots()\n",
        "plt.axis([xmin,xmax,ymin,ymax]) # window size\n",
        "plt.show()"
      ],
      "metadata": {
        "colab": {
          "base_uri": "https://localhost:8080/",
          "height": 435
        },
        "id": "QBbGBlb6GcrC",
        "outputId": "6c107c6a-bf40-47ce-ab8d-4d0de00645a1"
      },
      "execution_count": 64,
      "outputs": [
        {
          "output_type": "display_data",
          "data": {
            "text/plain": [
              "<Figure size 640x480 with 1 Axes>"
            ],
            "image/png": "[encoded data removed]"
          },
          "metadata": {}
        }
      ]
    },
    {
      "cell_type": "markdown",
      "source": [
        "Display axis lines"
      ],
      "metadata": {
        "id": "z_MZKaIfHHgk"
      }
    },
    {
      "cell_type": "code",
      "source": [
        "import matplotlib.pyplot as plt\n",
        "\n",
        "xmin = -10\n",
        "xmax = 10\n",
        "ymin = -10\n",
        "ymax = 10\n",
        "\n",
        "fig, ax = plt.subplots()\n",
        "plt.axis([xmin,xmax,ymin,ymax]) # window size\n",
        "plt.plot([xmin,xmax], [0,0], 'b') # blue x axis\n",
        "plt.plot([0,0],[ymin,ymax], 'b')\n",
        "\n",
        "plt.show()"
      ],
      "metadata": {
        "colab": {
          "base_uri": "https://localhost:8080/",
          "height": 435
        },
        "id": "O9tCkO9THJqC",
        "outputId": "0be9517c-098b-49e4-f4e4-20fa145e8e0b"
      },
      "execution_count": 66,
      "outputs": [
        {
          "output_type": "display_data",
          "data": {
            "text/plain": [
              "<Figure size 640x480 with 1 Axes>"
            ],
            "image/png": "[encoded data removed]"
          },
          "metadata": {}
        }
      ]
    },
    {
      "cell_type": "markdown",
      "source": [
        "Plot one point"
      ],
      "metadata": {
        "id": "cJpzwZB1HyTP"
      }
    },
    {
      "cell_type": "code",
      "source": [
        "import matplotlib.pyplot as plt\n",
        "\n",
        "xmin = -10\n",
        "xmax = 10\n",
        "ymin = -10\n",
        "ymax = 10\n",
        "\n",
        "fig, ax = plt.subplots()\n",
        "plt.axis([xmin,xmax,ymin,ymax]) # window size\n",
        "plt.plot([xmin,xmax], [0,0], 'b') # blue x axis\n",
        "plt.plot([0,0],[ymin,ymax], 'b')\n",
        "\n",
        "plt.plot([5],[4], 'ro')\n",
        "\n",
        "plt.show()\n"
      ],
      "metadata": {
        "colab": {
          "base_uri": "https://localhost:8080/",
          "height": 435
        },
        "id": "Q4ReEGC6Hz3R",
        "outputId": "990851c5-0ff9-439d-db7d-a931b4119341"
      },
      "execution_count": 67,
      "outputs": [
        {
          "output_type": "display_data",
          "data": {
            "text/plain": [
              "<Figure size 640x480 with 1 Axes>"
            ],
            "image/png": "[encoded data removed]"
          },
          "metadata": {}
        }
      ]
    },
    {
      "cell_type": "markdown",
      "source": [
        "Plot several points as a function"
      ],
      "metadata": {
        "id": "35jdA4ZjIIr9"
      }
    },
    {
      "cell_type": "code",
      "source": [
        "import matplotlib.pyplot as plt\n",
        "\n",
        "xmin = -10\n",
        "xmax = 10\n",
        "ymin = -10\n",
        "ymax = 10\n",
        "\n",
        "fig, ax = plt.subplots()\n",
        "plt.axis([xmin,xmax,ymin,ymax]) # window size\n",
        "plt.plot([xmin,xmax], [0,0], 'b') # blue x axis\n",
        "plt.plot([0,0],[ymin,ymax], 'b')\n",
        "\n",
        "for x in range(10):\n",
        "    y = 0.5*x + 1\n",
        "    plt.plot([x],[y], 'ro')\n",
        "\n",
        "plt.show()\n",
        "\n",
        "plt.show()"
      ],
      "metadata": {
        "colab": {
          "base_uri": "https://localhost:8080/",
          "height": 435
        },
        "id": "kp5_ILkCILhV",
        "outputId": "9b025684-74b2-4f94-ba47-aa0660a8c6be"
      },
      "execution_count": 68,
      "outputs": [
        {
          "output_type": "display_data",
          "data": {
            "text/plain": [
              "<Figure size 640x480 with 1 Axes>"
            ],
            "image/png": "[encoded data removed]"
          },
          "metadata": {}
        }
      ]
    },
    {
      "cell_type": "markdown",
      "source": [
        "Graph and table of (x,y) values"
      ],
      "metadata": {
        "id": "hTKLFPTdIzTl"
      }
    },
    {
      "cell_type": "code",
      "source": [
        "import matplotlib.pyplot as plt\n",
        "\n",
        "xmin = -10\n",
        "xmax = 10\n",
        "ymin = -10\n",
        "ymax = 10\n",
        "\n",
        "fig, ax = plt.subplots()\n",
        "plt.axis([xmin,xmax,ymin,ymax]) # window size\n",
        "plt.plot([xmin,xmax], [0,0], 'b') # blue x axis\n",
        "plt.plot([0,0],[ymin,ymax], 'b')\n",
        "\n",
        "print(\"x \\t y\")\n",
        "for x in range(xmin, xmax+1):\n",
        "    y = 0.5*x + 1\n",
        "    plt.plot([x],[y], 'ro')\n",
        "    print(x, \"\\t\", y)\n",
        "\n",
        "\n",
        "\n",
        "plt.show()"
      ],
      "metadata": {
        "colab": {
          "base_uri": "https://localhost:8080/",
          "height": 817
        },
        "id": "JHjO1xNsI3Dh",
        "outputId": "4216ba83-da3d-4368-d1a2-e64fd0aeab09"
      },
      "execution_count": 71,
      "outputs": [
        {
          "output_type": "stream",
          "name": "stdout",
          "text": [
            "x \t y\n",
            "-10 \t -4.0\n",
            "-9 \t -3.5\n",
            "-8 \t -3.0\n",
            "-7 \t -2.5\n",
            "-6 \t -2.0\n",
            "-5 \t -1.5\n",
            "-4 \t -1.0\n",
            "-3 \t -0.5\n",
            "-2 \t 0.0\n",
            "-1 \t 0.5\n",
            "0 \t 1.0\n",
            "1 \t 1.5\n",
            "2 \t 2.0\n",
            "3 \t 2.5\n",
            "4 \t 3.0\n",
            "5 \t 3.5\n",
            "6 \t 4.0\n",
            "7 \t 4.5\n",
            "8 \t 5.0\n",
            "9 \t 5.5\n",
            "10 \t 6.0\n"
          ]
        },
        {
          "output_type": "display_data",
          "data": {
            "text/plain": [
              "<Figure size 640x480 with 1 Axes>"
            ],
            "image/png": "[encoded data removed]"
          },
          "metadata": {}
        }
      ]
    },
    {
      "cell_type": "markdown",
      "source": [
        "Use an array as inputs"
      ],
      "metadata": {
        "id": "1bJdBEuUKCms"
      }
    },
    {
      "cell_type": "code",
      "source": [
        "import matplotlib.pyplot as plt\n",
        "import numpy as np\n",
        "\n",
        "xmin = -10\n",
        "xmax = 10\n",
        "ymin = -10\n",
        "ymax = 10\n",
        "points = 2*(xmax-xmin)\n",
        "x = np.linspace(xmin, xmax, points) # instead of a loop\n",
        "\n",
        "fig, ax = plt.subplots()\n",
        "plt.axis([xmin,xmax,ymin,ymax]) # window size\n",
        "plt.plot([xmin,xmax], [0,0], 'b') # blue x axis\n",
        "plt.plot([0,0],[ymin,ymax], 'b')\n",
        "\n",
        "y = 2*x + 1\n",
        "plt.plot(x,y, 'ro')\n",
        "\n",
        "plt.show()"
      ],
      "metadata": {
        "colab": {
          "base_uri": "https://localhost:8080/",
          "height": 435
        },
        "id": "j62_wAVpKEYD",
        "outputId": "dae22349-1f42-439b-8f7d-20bcb89094f7"
      },
      "execution_count": 75,
      "outputs": [
        {
          "output_type": "display_data",
          "data": {
            "text/plain": [
              "<Figure size 640x480 with 1 Axes>"
            ],
            "image/png": "[encoded data removed]"
          },
          "metadata": {}
        }
      ]
    },
    {
      "cell_type": "markdown",
      "source": [
        "More ways to customize a graph"
      ],
      "metadata": {
        "id": "WRO455nfwA8V"
      }
    },
    {
      "cell_type": "code",
      "source": [
        "import matplotlib.pyplot as plt\n",
        "import numpy as np\n",
        "\n",
        "xmin = -10\n",
        "xmax = 10\n",
        "ymin = -10\n",
        "ymax = 10\n",
        "points = 2*(xmax-xmin)\n",
        "x = np.linspace(xmin, xmax, points) # instead of a loop\n",
        "\n",
        "fig, ax = plt.subplots()\n",
        "plt.axis([xmin,xmax,ymin,ymax]) # window size\n",
        "plt.plot([xmin,xmax], [0,0], 'b') # blue x axis\n",
        "plt.plot([0,0],[ymin,ymax], 'b')\n",
        "\n",
        "ax.set_xlabel(\"x values\")\n",
        "ax.set_ylabel(\"y values\")\n",
        "ax.set_title(\"Some Graph\")\n",
        "ax.grid(True)\n",
        "\n",
        "ax.set_xticks(np.arange(xmin, xmax, 1))\n",
        "ax.set_yticks(np.arange(ymin, ymax, 1))\n",
        "\n",
        "y = 2*x + 1\n",
        "plt.plot(x, y, label='y=2x+1')\n",
        "plt.plot([4],[6], 'ro', label='point')\n",
        "plt.plot(x,3*x, label='steeper line')\n",
        "plt.legend()\n",
        "plt.show()"
      ],
      "metadata": {
        "colab": {
          "base_uri": "https://localhost:8080/",
          "height": 472
        },
        "id": "ob-0jd4DwC58",
        "outputId": "d013336a-0050-4aaf-9d9d-0b85ae1446ff"
      },
      "execution_count": 9,
      "outputs": [
        {
          "output_type": "display_data",
          "data": {
            "text/plain": [
              "<Figure size 640x480 with 1 Axes>"
            ],
            "image/png": "[encoded data removed]"
          },
          "metadata": {}
        }
      ]
    },
    {
      "cell_type": "markdown",
      "source": [
        "# Slope"
      ],
      "metadata": {
        "id": "2QVvei7-yg0e"
      }
    },
    {
      "cell_type": "markdown",
      "source": [
        "Formula to subtract slopes\n",
        "\n",
        "$M = \\frac{y2 - y1}{x2 - x1} = \\frac{4-1}{2-1} = \\frac{3}{1} = 3$\n",
        "\n"
      ],
      "metadata": {
        "id": "zt6abWIQyqb9"
      }
    },
    {
      "cell_type": "code",
      "source": [
        "x1 = 1\n",
        "y1 = 7\n",
        "x2 = 2\n",
        "y2 = 10\n",
        "\n",
        "slope = (y2 - y1) / (x2 - x1)\n",
        "\n",
        "print(\"slope = \", slope)"
      ],
      "metadata": {
        "colab": {
          "base_uri": "https://localhost:8080/"
        },
        "id": "-N9rrUDn2Nzf",
        "outputId": "1f7afae7-8005-4c72-bd9c-a5126b123c70"
      },
      "execution_count": 10,
      "outputs": [
        {
          "output_type": "stream",
          "name": "stdout",
          "text": [
            "slope =  3.0\n"
          ]
        }
      ]
    },
    {
      "cell_type": "markdown",
      "source": [
        "# Linear Equations"
      ],
      "metadata": {
        "id": "v41HrWWF2fEG"
      }
    },
    {
      "cell_type": "markdown",
      "source": [
        "$M = \\frac{4-1}{2-1} = 3 $\n",
        "\n",
        "y = Mx + b  // M = Move b = begin\n",
        "\n",
        "1 = 3(1) + b\n",
        "\n",
        "1 = 3 + b\n",
        "\n",
        "-2 = b\n",
        "\n",
        "y = 3x - 2"
      ],
      "metadata": {
        "id": "NbP49i1J2mDy"
      }
    },
    {
      "cell_type": "code",
      "source": [
        "x1 = 1\n",
        "y1 = 7\n",
        "x2 = 2\n",
        "y2 = 10\n",
        "\n",
        "# The slope is \"m\"\n",
        "m = (y2 - y1) / (x2 - x1)\n",
        "\n",
        "# The y intercept is \"b\"\n",
        "b = y1 - m*x1\n",
        "\n",
        "# The full equation\n",
        "print(\"y = \", m, \"x + \", b)"
      ],
      "metadata": {
        "colab": {
          "base_uri": "https://localhost:8080/"
        },
        "id": "mRf8dpeb3rtB",
        "outputId": "c40b672b-d98b-4d15-f903-c15e9fda449e"
      },
      "execution_count": 11,
      "outputs": [
        {
          "output_type": "stream",
          "name": "stdout",
          "text": [
            "y =  3.0 x +  4.0\n"
          ]
        }
      ]
    },
    {
      "cell_type": "markdown",
      "source": [
        "Display in graph"
      ],
      "metadata": {
        "id": "anufutWN4VDk"
      }
    },
    {
      "cell_type": "code",
      "source": [
        "import matplotlib.pyplot as plt\n",
        "\n",
        "x1 = 2\n",
        "y1 = 3\n",
        "x2 = 6\n",
        "y2 = 11\n",
        "\n",
        "# Develop the equation y = mx + b\n",
        "m = (y2 - y1) / (x2 - x1)\n",
        "b = y1 - m*x1\n",
        "print(\"y = \", m, \"x + \", b)\n",
        "\n",
        "# Graph\n",
        "xmin = -10\n",
        "xmax = 10\n",
        "ymin = -10\n",
        "ymax = 10\n",
        "\n",
        "# line on the graph\n",
        "y3 = m*xmin + b\n",
        "y4 = m*xmax + b\n",
        "\n",
        "# Basic setup for the graph\n",
        "fig, ax = plt.subplots()\n",
        "plt.axis([xmin,xmax,ymin,ymax]) # window size\n",
        "plt.plot([xmin,xmax],[0,0],'b') # blue x axis\n",
        "plt.plot([0,0],[ymin,ymax]) # blue y axis\n",
        "\n",
        "# Plot the linear function as a red line\n",
        "plt.plot([xmin,xmax],[y3,y4], 'r')\n",
        "\n",
        "plt.show()"
      ],
      "metadata": {
        "colab": {
          "base_uri": "https://localhost:8080/",
          "height": 452
        },
        "id": "Oh6gmjjj4Xn9",
        "outputId": "9cd78a85-4a6d-4ccb-aedc-370942cc07e8"
      },
      "execution_count": 17,
      "outputs": [
        {
          "output_type": "stream",
          "name": "stdout",
          "text": [
            "y =  2.0 x +  -1.0\n"
          ]
        },
        {
          "output_type": "display_data",
          "data": {
            "text/plain": [
              "<Figure size 640x480 with 1 Axes>"
            ],
            "image/png": "[encoded data removed]"
          },
          "metadata": {}
        }
      ]
    }
  ]
}